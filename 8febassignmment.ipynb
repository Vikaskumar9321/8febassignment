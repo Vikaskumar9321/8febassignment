{
 "cells": [
  {
   "cell_type": "markdown",
   "id": "de7cb49a-6c45-4833-922d-5a50ef258be0",
   "metadata": {},
   "source": [
    "#Ans 1"
   ]
  },
  {
   "cell_type": "markdown",
   "id": "4a17ee5f-0f2d-4ed2-99a2-455dd0368fd7",
   "metadata": {},
   "source": [
    "abstraction  is fundametal concept in object-oriented programming (OOP) that allows us to focus on the essentail features of an object or system and hide unnecessary details from the user. Abstraction is achieved by creating abstract classes or interfaces that defince a set of methonds or ptoperties without providing any implementation. these abstract classes that provide the actual impelementation of the methods and properties."
   ]
  },
  {
   "cell_type": "code",
   "execution_count": 6,
   "id": "2d9e8c17-d2c5-4904-bf6f-0ea0620c88fc",
   "metadata": {},
   "outputs": [],
   "source": [
    "class student:\n",
    "    \n",
    "    def __init__(self, Name , Class, RollNo, PhoneNumber):\n",
    "        self.Name= Name\n",
    "        self.Class = Class\n",
    "        self.RollNo = RollNo\n",
    "        self.PhoneNumber = PhoneNumber\n",
    "    def student_details(self):\n",
    "        return self.Name, self.Class , self.RollNo , self.PhoneNumber"
   ]
  },
  {
   "cell_type": "code",
   "execution_count": 7,
   "id": "833b293a-a8de-4a19-bf5c-1118096b258a",
   "metadata": {},
   "outputs": [],
   "source": [
    "Ayush = student(\"Ayush\" , \"XII\" , 123456, 9368288670)"
   ]
  },
  {
   "cell_type": "code",
   "execution_count": 8,
   "id": "9fd26760-e7e7-4609-9dfe-43fe12be5b61",
   "metadata": {},
   "outputs": [
    {
     "data": {
      "text/plain": [
       "('Ayush', 'XII', 123456, 9368288670)"
      ]
     },
     "execution_count": 8,
     "metadata": {},
     "output_type": "execute_result"
    }
   ],
   "source": [
    "Ayush.student_details()"
   ]
  },
  {
   "cell_type": "markdown",
   "id": "6d39de77-4ee1-4251-8bb9-2f9c9f59d6c1",
   "metadata": {},
   "source": [
    "##Ans 2\n"
   ]
  },
  {
   "cell_type": "markdown",
   "id": "f7dc5a7f-0aea-432f-b905-ac7f2a86f8ad",
   "metadata": {},
   "source": [
    "#1)Abstraction is  hidding the details  and implementation of the code.\n",
    "Encapsulaltion is hidding thae data and controllling the visibilityof the code.\n",
    "#2) Absrtraction is a design level process.\n",
    "Encapsulation is an implementation level process\n",
    "#3) Abstracrtion is conncerned about what a class instance can do, instead of the implementation of the class.\n",
    "Encapsulation helps in data binding and control over maintaining the transparency of the data\n",
    "#4) Abstraction is a design level process and it is used to reduce the complexity at the designing stage of a project.\n",
    "Encapsulation is an implemenation level process, and it is used to provide privacy and maintain control over the transprency of data at the implemenation stage of a project."
   ]
  },
  {
   "cell_type": "code",
   "execution_count": 2,
   "id": "873eb775-49c3-4e2e-ab5f-72f73063c2f1",
   "metadata": {},
   "outputs": [],
   "source": [
    "class cars:\n",
    "    def __init__(self, Model, year , average, Color ):\n",
    "        self.Model = Model\n",
    "        self.year = year\n",
    "        self.average = average\n",
    "        self.Color = Color\n",
    "    def car_details(self):\n",
    "        return self.Model, self.year , self.average , self.Color"
   ]
  },
  {
   "cell_type": "code",
   "execution_count": 4,
   "id": "efe42351-097b-42c0-a9f4-0b137d3579c0",
   "metadata": {},
   "outputs": [],
   "source": [
    "car = cars(\"Kia\", 2022 , 20, \"Black\" )"
   ]
  },
  {
   "cell_type": "code",
   "execution_count": 7,
   "id": "8abfa48a-59ce-4dfd-85a8-efd65b6ec482",
   "metadata": {},
   "outputs": [
    {
     "data": {
      "text/plain": [
       "'Black'"
      ]
     },
     "execution_count": 7,
     "metadata": {},
     "output_type": "execute_result"
    }
   ],
   "source": [
    "car.Color"
   ]
  },
  {
   "cell_type": "code",
   "execution_count": 20,
   "id": "3d00f158-342b-4642-9bf9-764e86058bbc",
   "metadata": {},
   "outputs": [],
   "source": [
    "#encapulation\n",
    "class bank_account :\n",
    "    def __init__(self, balance) :\n",
    "        self.__balance = balance\n",
    "    def deposit(self, ammount) :\n",
    "        self.__balance = self.__balance + ammount \n",
    "        \n",
    "    def withdrawl(self, ammount) :\n",
    "        if self.__balance >= ammount :\n",
    "            self.__balance = self.__balance - ammount\n",
    "            return True\n",
    "        else : \n",
    "            return False\n",
    "    def get_balance(self) :\n",
    "        return self.__balance"
   ]
  },
  {
   "cell_type": "code",
   "execution_count": 21,
   "id": "8c909982-6133-4950-9583-b9a931456a1e",
   "metadata": {},
   "outputs": [],
   "source": [
    "ayush = bank_account(10000)"
   ]
  },
  {
   "cell_type": "code",
   "execution_count": 22,
   "id": "e483af6b-75f4-4e9c-b51a-5979a74a5938",
   "metadata": {},
   "outputs": [
    {
     "data": {
      "text/plain": [
       "10000"
      ]
     },
     "execution_count": 22,
     "metadata": {},
     "output_type": "execute_result"
    }
   ],
   "source": [
    "ayush.get_balance()"
   ]
  },
  {
   "cell_type": "code",
   "execution_count": 23,
   "id": "76f39cfb-3800-4160-96f8-74b32922253f",
   "metadata": {},
   "outputs": [],
   "source": [
    "ayush.deposit(5000)"
   ]
  },
  {
   "cell_type": "code",
   "execution_count": 25,
   "id": "96bbd635-8123-4f5c-adc7-e5fc56657a33",
   "metadata": {},
   "outputs": [
    {
     "data": {
      "text/plain": [
       "15000"
      ]
     },
     "execution_count": 25,
     "metadata": {},
     "output_type": "execute_result"
    }
   ],
   "source": [
    "ayush.get_balance()"
   ]
  },
  {
   "cell_type": "code",
   "execution_count": 26,
   "id": "f6e186b6-8a97-4f78-91af-3e2922e9a02c",
   "metadata": {},
   "outputs": [
    {
     "data": {
      "text/plain": [
       "True"
      ]
     },
     "execution_count": 26,
     "metadata": {},
     "output_type": "execute_result"
    }
   ],
   "source": [
    "ayush.withdrawl(9000)"
   ]
  },
  {
   "cell_type": "code",
   "execution_count": 27,
   "id": "2c70c8c9-6ca2-44a4-991f-8c73f3c354cd",
   "metadata": {},
   "outputs": [
    {
     "data": {
      "text/plain": [
       "6000"
      ]
     },
     "execution_count": 27,
     "metadata": {},
     "output_type": "execute_result"
    }
   ],
   "source": [
    "ayush.get_balance()"
   ]
  },
  {
   "cell_type": "markdown",
   "id": "9b1c03b8-2272-4745-9e8d-a30ecc9ede88",
   "metadata": {},
   "source": [
    "#Ans 3"
   ]
  },
  {
   "cell_type": "markdown",
   "id": "319d2eb7-4981-494d-9898-3fc49940d7cf",
   "metadata": {},
   "source": [
    "The 'abc' moule in python stands for \"Abstract Base Classes\". it is a built_in module in python that provides an infrastructure for defining abstact base classes. An abstarct base class is a clas that cannot be instantiated on its own, but onstead, it provides an interface or a set of methods that subclassess are expected to implement.\n",
    "The Abc module is used for creating abstract base classes in Python. these abstract base classes define a common interface for a set of concrete classes. by defining a  common interface, the code that uses these concrete classes can be written in a more generic and flexible way, without needing ton know the specific implementation details of each concrete class.\n",
    "Using 'abc' module can also help with code organization and maintainbility. it makes it easier to change the implemenation of a class, without affecting the code that uses that class. this is because the code that uses the class is only dependent on the interface defined by the abstract base class, not on the specific implementation details of the concrete class"
   ]
  },
  {
   "cell_type": "markdown",
   "id": "1423b493-b228-4312-830e-00833e0908a7",
   "metadata": {},
   "source": [
    "#Ans 4"
   ]
  },
  {
   "cell_type": "markdown",
   "id": "4fa0c379-005e-4cb2-a96c-2aaeb1ff8094",
   "metadata": {},
   "source": [
    "In Python , we can achieve data abstraction through the use of classes and objects. Data abstraction is a programmin g concept that refers to the ability to hide implementation details while exposing only the necessary information or functionally to the user.\n",
    "\n",
    "#1) Define a classes: A class is a blueperint for creating objecgt. it defines  the properties and methods that an object of that class will have.\n",
    "\n",
    "#2) Encapsulate data: Ecapsulation is the proces of hiding data and method within a class so that they cannot be accessed directly from outside the class. this is  achieved by defining attributes as private or protected, which means they can only be accessed within the class or by subclasses.\n",
    "\n",
    "#3) Define public method: Public methods arethe interface through which the user interacts wuth the class. these methods should only expose the necessary information or functionality to the user, while keeping the implementation details hidden.\n",
    "\n",
    "#4) Use getters and setters: Getters and Setters are method that allow the user to access and modify private attributes of a class. by using getters and setters, we cantrol how to user interacts with the class and ensure that the data is validated before it is method"
   ]
  },
  {
   "cell_type": "markdown",
   "id": "fba78fe3-4fee-4d35-854f-7b9572ec4ddd",
   "metadata": {},
   "source": [
    "#Ans 5"
   ]
  },
  {
   "cell_type": "markdown",
   "id": "477e71e8-c38e-4cfe-8ae4-8f1eb28696f7",
   "metadata": {},
   "source": [
    "No, we cannot create an instance of an abstarct class in python.\n",
    "\n",
    "An abstarct class is a class that contains one or more abstract that are declared but have no implementation. An abstract class is intended to be subclassed, and its abstract methods must be implemented in the subclass.An abstarct class cannot be instantiated on its own, as it is not a complete implementation of the class.\n",
    "\n",
    "Attempting to create an instance of an abstract class in Python will result in a 'TypeError' being raised with amessage that says \"cant't instantiate abstract class\" This is beacuase the acstract class is not meant to be instantiated directly. "
   ]
  },
  {
   "cell_type": "code",
   "execution_count": null,
   "id": "3c8fa085-af68-4a3a-b2c6-77ac191cd8b4",
   "metadata": {},
   "outputs": [],
   "source": []
  }
 ],
 "metadata": {
  "kernelspec": {
   "display_name": "Python 3 (ipykernel)",
   "language": "python",
   "name": "python3"
  },
  "language_info": {
   "codemirror_mode": {
    "name": "ipython",
    "version": 3
   },
   "file_extension": ".py",
   "mimetype": "text/x-python",
   "name": "python",
   "nbconvert_exporter": "python",
   "pygments_lexer": "ipython3",
   "version": "3.10.8"
  }
 },
 "nbformat": 4,
 "nbformat_minor": 5
}
